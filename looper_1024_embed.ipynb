{
 "cells": [
  {
   "cell_type": "code",
   "execution_count": 1,
   "metadata": {},
   "outputs": [],
   "source": [
    "import pandas as pd\n",
    "from looper import Looper\n",
    "from PIL import Image\n",
    "import numpy as np\n",
    "\n",
    "from models import CNN_Encoder, RNN_Decoder, image_features_extract_model"
   ]
  },
  {
   "cell_type": "code",
   "execution_count": 2,
   "metadata": {},
   "outputs": [
    {
     "name": "stdout",
     "output_type": "stream",
     "text": [
      "Training with the following params:\n",
      "VOCAB_SIZE : 5000\n",
      "BATCH_SIZE : 32\n",
      "BUFFER_SIZE : 5000\n",
      "embedding_dim : 512\n",
      "embedding_words : 300\n",
      "units : 512\n",
      "embedding_size : 5001\n",
      "MAX_LENGTH : 20\n",
      "TOKENIZER_FOLDER : ./tokenizer/\n",
      "TOKENIZER_NAME : spbe_tokenizer.e\n",
      "CHECKPOINT_FOLDER : saved_models\n",
      "## Run set_params to change params ##\n"
     ]
    }
   ],
   "source": [
    "looper = Looper(CNN_Encoder, RNN_Decoder, image_features_extract_model)"
   ]
  },
  {
   "cell_type": "code",
   "execution_count": 3,
   "metadata": {},
   "outputs": [
    {
     "name": "stdout",
     "output_type": "stream",
     "text": [
      "loading from ./tokenizer/spbe_tokenizer.e\n"
     ]
    }
   ],
   "source": [
    "tokenizer = looper.load_tokenizer()"
   ]
  },
  {
   "cell_type": "code",
   "execution_count": 4,
   "metadata": {},
   "outputs": [
    {
     "data": {
      "text/plain": [
       "{'VOCAB_SIZE': 5000,\n",
       " 'BATCH_SIZE': 32,\n",
       " 'BUFFER_SIZE': 5000,\n",
       " 'embedding_dim': 512,\n",
       " 'embedding_words': 300,\n",
       " 'units': 512,\n",
       " 'embedding_size': 5001,\n",
       " 'MAX_LENGTH': 20,\n",
       " 'TOKENIZER_FOLDER': './tokenizer/',\n",
       " 'TOKENIZER_NAME': 'spbe_tokenizer.e',\n",
       " 'CHECKPOINT_FOLDER': 'saved_models'}"
      ]
     },
     "execution_count": 4,
     "metadata": {},
     "output_type": "execute_result"
    }
   ],
   "source": [
    "looper.params"
   ]
  },
  {
   "cell_type": "code",
   "execution_count": 5,
   "metadata": {},
   "outputs": [
    {
     "name": "stdout",
     "output_type": "stream",
     "text": [
      "Training with the following params:\n",
      "VOCAB_SIZE : 5000\n",
      "BATCH_SIZE : 32\n",
      "BUFFER_SIZE : 5000\n",
      "embedding_dim : 1024\n",
      "embedding_words : 300\n",
      "units : 1024\n",
      "embedding_size : 5001\n",
      "MAX_LENGTH : 20\n",
      "TOKENIZER_FOLDER : ./tokenizer/\n",
      "TOKENIZER_NAME : spbe_tokenizer.e\n",
      "CHECKPOINT_FOLDER : ./checkpoint_dis/1024_embed\n",
      "## Run set_params to change params ##\n"
     ]
    }
   ],
   "source": [
    "# CHANGE PARAMS\n",
    "\n",
    "params = {'VOCAB_SIZE': 5000,\n",
    " 'BATCH_SIZE': 32,\n",
    " 'BUFFER_SIZE': 5000,\n",
    " 'embedding_dim': 1024,\n",
    " 'embedding_words': 300,\n",
    " 'units': 1024,\n",
    " 'embedding_size': 5001,\n",
    " 'MAX_LENGTH': 20,\n",
    " 'TOKENIZER_FOLDER': './tokenizer/',\n",
    " 'TOKENIZER_NAME': 'spbe_tokenizer.e',\n",
    " 'CHECKPOINT_FOLDER': './checkpoint_dis/1024_embed'}\n",
    "\n",
    "params = looper.set_params(params)"
   ]
  },
  {
   "cell_type": "code",
   "execution_count": 6,
   "metadata": {},
   "outputs": [
    {
     "data": {
      "text/plain": [
       "array([[<matplotlib.axes._subplots.AxesSubplot object at 0x7eff505789e8>]],\n",
       "      dtype=object)"
      ]
     },
     "execution_count": 6,
     "metadata": {},
     "output_type": "execute_result"
    },
    {
     "data": {
      "image/png": "[encoded data removed]",
      "text/plain": [
       "<Figure size 432x288 with 1 Axes>"
      ]
     },
     "metadata": {
      "needs_background": "light"
     },
     "output_type": "display_data"
    }
   ],
   "source": [
    "data = pd.read_csv('val.csv')\n",
    "captions_val = data.title.to_list()\n",
    "images_val = data.paths.to_list()\n",
    "\n",
    "data = pd.read_csv('train.csv')\n",
    "data['captions'] =  data['captions'].astype(str)\n",
    "data['sent_len'] = data['captions'].apply(lambda r: len(r.split(' ')))\n",
    "data = data[(data['sent_len']<20) & (data['sent_len']>4)]\n",
    "captions_train = data.title.to_list()\n",
    "images_train = data.paths.to_list()\n",
    "data.hist('sent_len')"
   ]
  },
  {
   "cell_type": "code",
   "execution_count": 7,
   "metadata": {},
   "outputs": [
    {
     "name": "stdout",
     "output_type": "stream",
     "text": [
      "max title len 20\n",
      "len titles: 2375,len images: 2375\n",
      "captions vector shape (2375, 20)\n",
      "NOT using augmentations in loader\n"
     ]
    }
   ],
   "source": [
    "dataset_val = looper.make_dataset(images_val,captions_val)"
   ]
  },
  {
   "cell_type": "code",
   "execution_count": 8,
   "metadata": {},
   "outputs": [
    {
     "name": "stdout",
     "output_type": "stream",
     "text": [
      "max title len 20\n",
      "len titles: 29254,len images: 29254\n",
      "captions vector shape (29254, 20)\n",
      "Using augmentations in loader\n"
     ]
    }
   ],
   "source": [
    "dataset_train = looper.make_dataset(images_train, captions_train, loader_type='aug')"
   ]
  },
  {
   "cell_type": "code",
   "execution_count": null,
   "metadata": {},
   "outputs": [
    {
     "name": "stdout",
     "output_type": "stream",
     "text": [
      "Epoch 1 Batch 0 Loss 2.7850\n"
     ]
    }
   ],
   "source": [
    "looper.train(dataset_val, dataset_val, 40, save_n=1)"
   ]
  }
 ],
 "metadata": {
  "kernelspec": {
   "display_name": "Python 3",
   "language": "python",
   "name": "python3"
  },
  "language_info": {
   "codemirror_mode": {
    "name": "ipython",
    "version": 3
   },
   "file_extension": ".py",
   "mimetype": "text/x-python",
   "name": "python",
   "nbconvert_exporter": "python",
   "pygments_lexer": "ipython3",
   "version": "3.6.9"
  }
 },
 "nbformat": 4,
 "nbformat_minor": 4
}
