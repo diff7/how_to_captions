{
 "cells": [
  {
   "cell_type": "code",
   "execution_count": 2,
   "metadata": {},
   "outputs": [],
   "source": [
    "from tqdm import tqdm\n",
    "import requests\n",
    "from datetime import datetime\n",
    "import pandas as pd\n",
    "import time\n",
    "import os\n",
    "from PIL import Image"
   ]
  },
  {
   "cell_type": "code",
   "execution_count": 8,
   "metadata": {},
   "outputs": [],
   "source": [
    "dataset = pd.read_csv('how_to_raw.csv')"
   ]
  },
  {
   "cell_type": "code",
   "execution_count": 6,
   "metadata": {},
   "outputs": [
    {
     "data": {
      "text/plain": [
       "(43557, 3)"
      ]
     },
     "execution_count": 6,
     "metadata": {},
     "output_type": "execute_result"
    }
   ],
   "source": [
    "data.shape"
   ]
  },
  {
   "cell_type": "code",
   "execution_count": 9,
   "metadata": {},
   "outputs": [
    {
     "name": "stderr",
     "output_type": "stream",
     "text": [
      "100%|██████████| 43557/43557 [00:39<00:00, 1107.33it/s]\n"
     ]
    }
   ],
   "source": [
    "dataset['im_id'] = 'jpg'\n",
    "for i in tqdm(range(dataset.shape[0])):\n",
    "    ext = dataset.iloc[i,1].split('.')[-1]\n",
    "    dataset.iloc[i,3] = str(i+1)+'.'+ext"
   ]
  },
  {
   "cell_type": "code",
   "execution_count": 11,
   "metadata": {},
   "outputs": [],
   "source": [
    "data = dataset"
   ]
  },
  {
   "cell_type": "code",
   "execution_count": 12,
   "metadata": {},
   "outputs": [
    {
     "data": {
      "text/html": [
       "<div>\n",
       "<style scoped>\n",
       "    .dataframe tbody tr th:only-of-type {\n",
       "        vertical-align: middle;\n",
       "    }\n",
       "\n",
       "    .dataframe tbody tr th {\n",
       "        vertical-align: top;\n",
       "    }\n",
       "\n",
       "    .dataframe thead th {\n",
       "        text-align: right;\n",
       "    }\n",
       "</style>\n",
       "<table border=\"1\" class=\"dataframe\">\n",
       "  <thead>\n",
       "    <tr style=\"text-align: right;\">\n",
       "      <th></th>\n",
       "      <th>Unnamed: 0</th>\n",
       "      <th>link</th>\n",
       "      <th>title</th>\n",
       "      <th>im_id</th>\n",
       "      <th>ext</th>\n",
       "    </tr>\n",
       "  </thead>\n",
       "  <tbody>\n",
       "    <tr>\n",
       "      <th>0</th>\n",
       "      <td>0</td>\n",
       "      <td>https://www.wikihow.com/images/thumb/4/4a/Kick...</td>\n",
       "      <td>How to plan your white supremacist agenda whil...</td>\n",
       "      <td>1.webp</td>\n",
       "      <td>webp</td>\n",
       "    </tr>\n",
       "    <tr>\n",
       "      <th>1</th>\n",
       "      <td>1</td>\n",
       "      <td>https://i.redd.it/7pex30bf0ru01.jpg</td>\n",
       "      <td>How to Celebrate 4/20</td>\n",
       "      <td>2.jpg</td>\n",
       "      <td>jpg</td>\n",
       "    </tr>\n",
       "  </tbody>\n",
       "</table>\n",
       "</div>"
      ],
      "text/plain": [
       "   Unnamed: 0                                               link  \\\n",
       "0           0  https://www.wikihow.com/images/thumb/4/4a/Kick...   \n",
       "1           1                https://i.redd.it/7pex30bf0ru01.jpg   \n",
       "\n",
       "                                               title   im_id   ext  \n",
       "0  How to plan your white supremacist agenda whil...  1.webp  webp  \n",
       "1                              How to Celebrate 4/20   2.jpg   jpg  "
      ]
     },
     "execution_count": 12,
     "metadata": {},
     "output_type": "execute_result"
    }
   ],
   "source": [
    "data['ext'] = data['im_id'].apply(lambda n: n.split('.')[-1])\n",
    "data.head(2)"
   ]
  },
  {
   "cell_type": "code",
   "execution_count": 14,
   "metadata": {},
   "outputs": [],
   "source": [
    "data = data[(data['ext']=='jpg') | (data['ext']=='png')]"
   ]
  },
  {
   "cell_type": "code",
   "execution_count": 15,
   "metadata": {},
   "outputs": [
    {
     "data": {
      "text/plain": [
       "(42802, 5)"
      ]
     },
     "execution_count": 15,
     "metadata": {},
     "output_type": "execute_result"
    }
   ],
   "source": [
    "data.shape"
   ]
  },
  {
   "cell_type": "code",
   "execution_count": 16,
   "metadata": {},
   "outputs": [],
   "source": [
    "data.to_csv('how_to_new.csv')"
   ]
  },
  {
   "cell_type": "code",
   "execution_count": 3,
   "metadata": {},
   "outputs": [],
   "source": [
    "def save_img(url, name, folder='images'):\n",
    "    r = requests.get(url, stream=True)\n",
    "    if r.status_code == 200:\n",
    "        with open(folder+'/'+name, 'wb') as f:\n",
    "            for chunk in r:\n",
    "                f.write(chunk)\n",
    "        return True\n",
    "    else:\n",
    "        return False\n",
    "        "
   ]
  },
  {
   "cell_type": "code",
   "execution_count": null,
   "metadata": {},
   "outputs": [
    {
     "name": "stderr",
     "output_type": "stream",
     "text": [
      "  0%|          | 105/42802 [00:35<4:25:11,  2.68it/s]"
     ]
    },
    {
     "name": "stdout",
     "output_type": "stream",
     "text": [
      "https://m.wikihow.com/Be-a-Bad-Boy#/Image:Be-a-Bad-Boy-Step-1-Version-2.jpg cannot identify image file './disney_img/111.jpg'\n"
     ]
    },
    {
     "name": "stderr",
     "output_type": "stream",
     "text": [
      "  1%|          | 282/42802 [01:51<4:10:29,  2.83it/s]"
     ]
    },
    {
     "name": "stdout",
     "output_type": "stream",
     "text": [
      "https://m.wikihow.com/Deal-with-Workplace-Bullying-and-Harassment#/Image:97730-18.jpg cannot identify image file './disney_img/292.jpg'\n"
     ]
    },
    {
     "name": "stderr",
     "output_type": "stream",
     "text": [
      "  1%|          | 296/42802 [01:57<5:28:53,  2.15it/s]"
     ]
    },
    {
     "name": "stdout",
     "output_type": "stream",
     "text": [
      "https://www.wikihow.com/Send-a-Book-to-a-Publisher#/Image:Send-a-Book-to-a-Publisher-Step-14.jpg cannot identify image file './disney_img/306.jpg'\n"
     ]
    },
    {
     "name": "stderr",
     "output_type": "stream",
     "text": [
      "  1%|          | 308/42802 [02:04<5:59:09,  1.97it/s]"
     ]
    },
    {
     "name": "stdout",
     "output_type": "stream",
     "text": [
      "https://m.wikihow.com/Pretend-to-Have-Ice-Powers#/Image:Pretend-to-Have-Ice-Powers-Step-13.jpg cannot identify image file './disney_img/323.jpg'\n"
     ]
    },
    {
     "name": "stderr",
     "output_type": "stream",
     "text": [
      "  1%|          | 441/42802 [03:10<5:28:12,  2.15it/s] "
     ]
    },
    {
     "name": "stdout",
     "output_type": "stream",
     "text": [
      "https://www.wikihow.com/Appear-to-Have-Snow-Power#/Image:Appear-to-Have-Snow-Power-Step-7-Version-2.jpg cannot identify image file './disney_img/463.jpg'\n"
     ]
    },
    {
     "name": "stderr",
     "output_type": "stream",
     "text": [
      "  1%|▏         | 606/42802 [04:31<6:11:44,  1.89it/s]"
     ]
    },
    {
     "name": "stdout",
     "output_type": "stream",
     "text": [
      "https://www.wikihow.com/Use-Aromatherapy-for-Constipation#/Image:Use-Aromatherapy-for-Constipation-Step-11.jpg cannot identify image file './disney_img/635.jpg'\n"
     ]
    },
    {
     "name": "stderr",
     "output_type": "stream",
     "text": [
      "  2%|▏         | 962/42802 [07:15<4:53:41,  2.37it/s]"
     ]
    },
    {
     "name": "stdout",
     "output_type": "stream",
     "text": [
      "https://m.wikihow.com/Report-a-UFO-Sighting#/Image:Report-a-UFO-Sighting-Step-3-Version-2.jpg cannot identify image file './disney_img/1001.jpg'\n"
     ]
    },
    {
     "name": "stderr",
     "output_type": "stream",
     "text": [
      "  2%|▏         | 972/42802 [07:21<6:00:15,  1.94it/s]"
     ]
    },
    {
     "name": "stdout",
     "output_type": "stream",
     "text": [
      "https://www.wikihow.com/Spot-a-Pathological-Liar#/Image:Spot-a-Pathological-Liar-Step-3-Version-4.jpg cannot identify image file './disney_img/1011.jpg'\n"
     ]
    },
    {
     "name": "stderr",
     "output_type": "stream",
     "text": [
      "  2%|▏         | 1018/42802 [07:42<4:24:55,  2.63it/s]"
     ]
    },
    {
     "name": "stdout",
     "output_type": "stream",
     "text": [
      "https://78.media.tumblr.com/57e29fcad0acedccfd1282c2628821ec/tumblr_p6moq7Qp5V1tzofdno1_1280.jpg ('Connection aborted.', ConnectionResetError(104, 'Connection reset by peer'))\n"
     ]
    },
    {
     "name": "stderr",
     "output_type": "stream",
     "text": [
      "  3%|▎         | 1124/42802 [08:29<4:50:42,  2.39it/s]"
     ]
    },
    {
     "name": "stdout",
     "output_type": "stream",
     "text": [
      "https://www.wikihow.com/Win-a-Street-Fight#/Image:Win-a-Street-Fight-Step-10-Version-4.jpg cannot identify image file './disney_img/1170.jpg'\n"
     ]
    },
    {
     "name": "stderr",
     "output_type": "stream",
     "text": [
      "  4%|▎         | 1511/42802 [11:27<4:36:46,  2.49it/s]"
     ]
    },
    {
     "name": "stdout",
     "output_type": "stream",
     "text": [
      "https://www.wikihow.com/Apologize-to-Your-Guy-Friend#/Image:Accept-Defeat-Gracefully-Step-6-Version-2.jpg cannot identify image file './disney_img/1564.jpg'\n"
     ]
    },
    {
     "name": "stderr",
     "output_type": "stream",
     "text": [
      "  4%|▍         | 1670/42802 [12:40<6:02:11,  1.89it/s]"
     ]
    },
    {
     "name": "stdout",
     "output_type": "stream",
     "text": [
      "https://www.wikihow.com/Write-a-College-Admissions-Essay#/Image:Write-a-College-Admissions-Essay-Step-17.jpg cannot identify image file './disney_img/1725.jpg'\n"
     ]
    },
    {
     "name": "stderr",
     "output_type": "stream",
     "text": [
      "  4%|▍         | 1685/42802 [12:47<4:25:58,  2.58it/s]"
     ]
    },
    {
     "name": "stdout",
     "output_type": "stream",
     "text": [
      "https://www.wikihow.com/Be-Silly#/Image:Be-Silly-Step-17.jpg cannot identify image file './disney_img/1740.jpg'\n"
     ]
    },
    {
     "name": "stderr",
     "output_type": "stream",
     "text": [
      "  4%|▍         | 1689/42802 [12:50<5:47:24,  1.97it/s]"
     ]
    },
    {
     "name": "stdout",
     "output_type": "stream",
     "text": [
      "https://www.wikihow.com/Write-a-Documentary#/Image:Write-a-Documentary-Step-5.jpg cannot identify image file './disney_img/1744.jpg'\n"
     ]
    },
    {
     "name": "stderr",
     "output_type": "stream",
     "text": [
      "  4%|▍         | 1690/42802 [12:51<8:46:18,  1.30it/s]"
     ]
    },
    {
     "name": "stdout",
     "output_type": "stream",
     "text": [
      "https://m.wikihow.com/Get-Your-Toddler-to-Play-with-Other-Children#/Image:Get-Your-Toddler-to-Play-with-Other-Children-Step-3.jpg cannot identify image file './disney_img/1745.jpg'\n"
     ]
    },
    {
     "name": "stderr",
     "output_type": "stream",
     "text": [
      "  5%|▍         | 1949/42802 [14:46<5:43:02,  1.98it/s] "
     ]
    },
    {
     "name": "stdout",
     "output_type": "stream",
     "text": [
      "https://www.wikihow.com/Diagnose-Fibromyalgia#/Image:Diagnose-Fibromyalgia-Step-2-Version-2.jpg cannot identify image file './disney_img/2010.jpg'\n"
     ]
    },
    {
     "name": "stderr",
     "output_type": "stream",
     "text": [
      "  5%|▍         | 2123/42802 [16:07<4:04:37,  2.77it/s]"
     ]
    },
    {
     "name": "stdout",
     "output_type": "stream",
     "text": [
      "https://www.wikihow.com/Trim-Oak-Trees#/Image:Trim-Oak-Trees-Step-2-Version-4.jpg cannot identify image file './disney_img/2187.jpg'\n"
     ]
    },
    {
     "name": "stderr",
     "output_type": "stream",
     "text": [
      "  5%|▌         | 2284/42802 [17:21<4:32:56,  2.47it/s]"
     ]
    },
    {
     "name": "stdout",
     "output_type": "stream",
     "text": [
      "https://www.wikihow.com/Wear-a-Fedora#/Image:Wear-a-Fedora-Step-15.jpg cannot identify image file './disney_img/2355.jpg'\n"
     ]
    },
    {
     "name": "stderr",
     "output_type": "stream",
     "text": [
      "  6%|▌         | 2413/42802 [18:22<4:35:13,  2.45it/s]"
     ]
    },
    {
     "name": "stdout",
     "output_type": "stream",
     "text": [
      "https://m.wikihow.com/Not-Get-Hurt-in-a-Fight#/Image:Not-Get-Hurt-in-a-Fight-Step-7.jpg cannot identify image file './disney_img/2486.jpg'\n"
     ]
    },
    {
     "name": "stderr",
     "output_type": "stream",
     "text": [
      "  6%|▌         | 2414/42802 [18:23<7:54:13,  1.42it/s]"
     ]
    },
    {
     "name": "stdout",
     "output_type": "stream",
     "text": [
      "https://www.wikihow.com/Express-Your-Feelings#/Image:Express-Your-Feelings-Step-5-Version-3.jpg cannot identify image file './disney_img/2487.jpg'\n"
     ]
    },
    {
     "name": "stderr",
     "output_type": "stream",
     "text": [
      "  6%|▋         | 2758/42802 [21:00<5:13:32,  2.13it/s]"
     ]
    },
    {
     "name": "stdout",
     "output_type": "stream",
     "text": [
      "https://www.wikihow.com/Stop-Fearing-Ghosts-and-Paranormal-Phenomena#/Image:Stop-Fearing-Ghosts-and-Paranormal-Phenomena-Step-3-Version-2.jpg cannot identify image file './disney_img/2834.jpg'\n"
     ]
    },
    {
     "name": "stderr",
     "output_type": "stream",
     "text": [
      "  7%|▋         | 2957/42802 [22:33<4:29:43,  2.46it/s]"
     ]
    },
    {
     "name": "stdout",
     "output_type": "stream",
     "text": [
      "https://www.wikihow.com/Comfort-Someone#/Image:Talk-Someone-out-of-Suicide-Step-17.jpg cannot identify image file './disney_img/3037.jpg'\n"
     ]
    },
    {
     "name": "stderr",
     "output_type": "stream",
     "text": [
      "  7%|▋         | 3088/42802 [23:32<5:23:17,  2.05it/s]"
     ]
    },
    {
     "name": "stdout",
     "output_type": "stream",
     "text": [
      "https://m.wikihow.com/Stop-Binge-Eating#/Image:Avoid-MSG-Step-12.jpg cannot identify image file './disney_img/3170.jpg'\n"
     ]
    },
    {
     "name": "stderr",
     "output_type": "stream",
     "text": [
      "  7%|▋         | 3096/42802 [23:37<5:44:32,  1.92it/s]"
     ]
    },
    {
     "name": "stdout",
     "output_type": "stream",
     "text": [
      "https://m.wikihow.com/Get-Involved-in-Community-Theater#/Image:Get-Involved-in-Community-Theater-Step-10.jpg cannot identify image file './disney_img/3178.jpg'\n"
     ]
    },
    {
     "name": "stderr",
     "output_type": "stream",
     "text": [
      "  8%|▊         | 3426/42802 [26:09<4:29:15,  2.44it/s]"
     ]
    },
    {
     "name": "stdout",
     "output_type": "stream",
     "text": [
      "https://www.wikihow.com/Secretly-Play-Video-Games-when-You%27re-Grounded#/Image:Secretly-Play-Video-Games-when-You%27re-Grounded-Step-10-Version-3.jpg cannot identify image file './disney_img/3512.jpg'\n"
     ]
    },
    {
     "name": "stderr",
     "output_type": "stream",
     "text": [
      "  8%|▊         | 3503/42802 [26:45<5:12:18,  2.10it/s]"
     ]
    },
    {
     "name": "stdout",
     "output_type": "stream",
     "text": [
      "https://m.wikihow.com/Reduce-Fat-in-Arms-(for-Women)#/Image:Reduce-Fat-in-Arms-(for-Women)-Step-4-Version-2.jpg cannot identify image file './disney_img/3589.jpg'\n"
     ]
    },
    {
     "name": "stderr",
     "output_type": "stream",
     "text": [
      "  8%|▊         | 3548/42802 [27:08<4:20:06,  2.52it/s]"
     ]
    },
    {
     "name": "stdout",
     "output_type": "stream",
     "text": [
      "https://m.wikihow.com/Understand-an-Autistic-Person%27s-Needs#/Image:Man-Consoles-Teen-Boy.png cannot identify image file './disney_img/3635.png'\n"
     ]
    },
    {
     "name": "stderr",
     "output_type": "stream",
     "text": [
      "  9%|▉         | 3759/42802 [28:49<5:19:29,  2.04it/s]"
     ]
    },
    {
     "name": "stdout",
     "output_type": "stream",
     "text": [
      "https://www.wikihow.com/Look-Like-You-Are-on-Drugs#/Image:Look-Like-You-Are-on-Drugs-Step-17.jpg cannot identify image file './disney_img/3849.jpg'\n"
     ]
    },
    {
     "name": "stderr",
     "output_type": "stream",
     "text": [
      "  9%|▉         | 3777/42802 [28:57<4:04:32,  2.66it/s]"
     ]
    },
    {
     "name": "stdout",
     "output_type": "stream",
     "text": [
      "https://m.wikihow.com/Act-Silly-with-Your-Girlfriend#/Image:Act-Silly-with-Your-Girlfriend-Step-2-Version-2.jpg cannot identify image file './disney_img/3868.jpg'\n"
     ]
    },
    {
     "name": "stderr",
     "output_type": "stream",
     "text": [
      "  9%|▉         | 3858/42802 [29:34<3:46:52,  2.86it/s] "
     ]
    },
    {
     "name": "stdout",
     "output_type": "stream",
     "text": [
      "https://m.wikihow.com/Treat-Pancreatitis#/Image:Treat-Pancreatitis-Step-9-Version-2.jpg cannot identify image file './disney_img/3951.jpg'\n"
     ]
    },
    {
     "name": "stderr",
     "output_type": "stream",
     "text": [
      "  9%|▉         | 3984/42802 [30:33<4:39:12,  2.32it/s]"
     ]
    },
    {
     "name": "stdout",
     "output_type": "stream",
     "text": [
      "https://www.wikihow.com/Get-Rid-of-Body-Odor-Naturally#/Image:Get-Rid-of-Body-Odor-Naturally-Step-4-Version-2.jpg cannot identify image file './disney_img/4081.jpg'\n"
     ]
    },
    {
     "name": "stderr",
     "output_type": "stream",
     "text": [
      " 10%|▉         | 4216/42802 [32:21<4:36:26,  2.33it/s] "
     ]
    },
    {
     "name": "stdout",
     "output_type": "stream",
     "text": [
      "https://m.wikihow.com/Buy-Condoms#/Image:Buy-Condoms-Step-12.jpg cannot identify image file './disney_img/4319.jpg'\n"
     ]
    },
    {
     "name": "stderr",
     "output_type": "stream",
     "text": [
      " 10%|▉         | 4217/42802 [32:23<7:49:24,  1.37it/s]"
     ]
    },
    {
     "name": "stdout",
     "output_type": "stream",
     "text": [
      "https://m.wikihow.com/Buy-Condoms#/Image:Buy-Condoms-Step-12.jpg cannot identify image file './disney_img/4320.jpg'\n"
     ]
    },
    {
     "name": "stderr",
     "output_type": "stream",
     "text": [
      " 10%|▉         | 4236/42802 [32:32<4:07:49,  2.59it/s]"
     ]
    },
    {
     "name": "stdout",
     "output_type": "stream",
     "text": [
      "https://m.wikihow.com/Be-a-Good-Journalist#/Image:Be-a-Good-Journalist-Step-9.jpg cannot identify image file './disney_img/4341.jpg'\n"
     ]
    },
    {
     "name": "stderr",
     "output_type": "stream",
     "text": [
      " 10%|█         | 4335/42802 [33:19<4:31:17,  2.36it/s]"
     ]
    },
    {
     "name": "stdout",
     "output_type": "stream",
     "text": [
      "https://m.wikihow.com/Make-a-Water-Drop-Sound-With-Your-Mouth#/Image:Make-a-Water-Drop-Sound-With-Your-Mouth-Step-5-Version-5.jpg cannot identify image file './disney_img/4442.jpg'\n"
     ]
    },
    {
     "name": "stderr",
     "output_type": "stream",
     "text": [
      " 10%|█         | 4359/42802 [33:32<6:01:04,  1.77it/s]"
     ]
    },
    {
     "name": "stdout",
     "output_type": "stream",
     "text": [
      "https://www.wikihow.com/Prevent-Tartar?utm_source=wikihow&amp;utm_medium=main_page_carousel&amp;utm_campaign=desktop#/Image:Prevent-Tartar-Step-10.jpg cannot identify image file './disney_img/4466.jpg'\n"
     ]
    },
    {
     "name": "stderr",
     "output_type": "stream",
     "text": [
      " 11%|█         | 4503/42802 [34:39<4:15:10,  2.50it/s] "
     ]
    },
    {
     "name": "stdout",
     "output_type": "stream",
     "text": [
      "https://www.wikihow.com/Play-Pin-the-Tail-on-the-Donkey#/Image:Play-Pin-the-Tail-on-the-Donkey-Step-12.jpg cannot identify image file './disney_img/4614.jpg'\n"
     ]
    },
    {
     "name": "stderr",
     "output_type": "stream",
     "text": [
      " 11%|█         | 4647/42802 [35:46<6:13:33,  1.70it/s]"
     ]
    },
    {
     "name": "stdout",
     "output_type": "stream",
     "text": [
      "https://www.wikihow.com/Be-Classy#/Image:Be-Classy-Step-8.jpg cannot identify image file './disney_img/4762.jpg'\n"
     ]
    },
    {
     "name": "stderr",
     "output_type": "stream",
     "text": [
      " 11%|█▏        | 4860/42802 [37:23<4:59:49,  2.11it/s]"
     ]
    },
    {
     "name": "stdout",
     "output_type": "stream",
     "text": [
      "https://m.wikihow.com/Stretch-Spandex-Material#/Image:Stretch-Spandex-Material-Step-5.jpg cannot identify image file './disney_img/4982.jpg'\n"
     ]
    },
    {
     "name": "stderr",
     "output_type": "stream",
     "text": [
      " 11%|█▏        | 4875/42802 [37:31<5:17:35,  1.99it/s]"
     ]
    },
    {
     "name": "stdout",
     "output_type": "stream",
     "text": [
      "http://cdn.smosh.com/wp-content/uploads/2016/09/wikihow-funny-laugh-naturally-on-cue.jpg HTTPConnectionPool(host='cdn.smosh.com', port=80): Max retries exceeded with url: /wp-content/uploads/2016/09/wikihow-funny-laugh-naturally-on-cue.jpg (Caused by NewConnectionError('<urllib3.connection.HTTPConnection object at 0x7f766172ccf8>: Failed to establish a new connection: [Errno -2] Name or service not known',))\n"
     ]
    },
    {
     "name": "stderr",
     "output_type": "stream",
     "text": [
      " 11%|█▏        | 4881/42802 [37:34<5:10:01,  2.04it/s]"
     ]
    },
    {
     "name": "stdout",
     "output_type": "stream",
     "text": [
      "https://www.wikihow.com/Be-Naughty#/Image:Be-Naughty-Step-12Bullet1.jpg cannot identify image file './disney_img/5003.jpg'\n"
     ]
    },
    {
     "name": "stderr",
     "output_type": "stream",
     "text": [
      " 12%|█▏        | 5015/42802 [38:34<5:47:36,  1.81it/s]"
     ]
    },
    {
     "name": "stdout",
     "output_type": "stream",
     "text": [
      "https://m.wikihow.com/Stop-a-Male-Cat-from-Spraying#/Image:Stop-a-Male-Cat-from-Spraying-Step-11.jpg cannot identify image file './disney_img/5142.jpg'\n"
     ]
    },
    {
     "name": "stderr",
     "output_type": "stream",
     "text": [
      " 12%|█▏        | 5186/42802 [39:53<4:16:33,  2.44it/s]"
     ]
    },
    {
     "name": "stdout",
     "output_type": "stream",
     "text": [
      "https://m.wikihow.com/Teach-a-Hamster-Tricks#/Image:Teach-a-Hamster-Tricks-Step-3-Version-2.jpg cannot identify image file './disney_img/5315.jpg'\n"
     ]
    },
    {
     "name": "stderr",
     "output_type": "stream",
     "text": [
      " 12%|█▏        | 5347/42802 [41:06<3:49:04,  2.73it/s]"
     ]
    },
    {
     "name": "stdout",
     "output_type": "stream",
     "text": [
      "https://m.wikihow.com/Make-a-Player-Fall-in-Love#/Image:Make-a-Player-Fall-in-Love-Step-1-Version-2.jpg cannot identify image file './disney_img/5478.jpg'\n"
     ]
    },
    {
     "name": "stderr",
     "output_type": "stream",
     "text": [
      " 13%|█▎        | 5384/42802 [41:26<5:25:08,  1.92it/s]"
     ]
    },
    {
     "name": "stdout",
     "output_type": "stream",
     "text": [
      "https://m.wikihow.com/Appreciate-People-of-Other-Religions#/Image:Appreciate-People-of-Other-Religions-Step-4.jpg cannot identify image file './disney_img/5515.jpg'\n"
     ]
    },
    {
     "name": "stderr",
     "output_type": "stream",
     "text": [
      " 13%|█▎        | 5697/42802 [43:48<4:52:18,  2.12it/s]"
     ]
    },
    {
     "name": "stdout",
     "output_type": "stream",
     "text": [
      "https://m.wikihow.com/Teach-a-Child-to-Ride-a-Bike#/Image:Teach-a-Child-to-Ride-a-Bike-Step-5-Version-4.jpg cannot identify image file './disney_img/5833.jpg'\n"
     ]
    },
    {
     "name": "stderr",
     "output_type": "stream",
     "text": [
      " 13%|█▎        | 5740/42802 [44:08<5:23:49,  1.91it/s]"
     ]
    },
    {
     "name": "stdout",
     "output_type": "stream",
     "text": [
      "https://www.wikihow.com/Teach-Your-Cat-to-Do-Tricks#/Image:Teach-Your-Cat-to-Do-Tricks-Step-15.jpg cannot identify image file './disney_img/5877.jpg'\n"
     ]
    },
    {
     "name": "stderr",
     "output_type": "stream",
     "text": [
      " 14%|█▎        | 5804/42802 [44:40<5:08:25,  2.00it/s]"
     ]
    },
    {
     "name": "stdout",
     "output_type": "stream",
     "text": [
      "https://www.wikihow.com/Get-a-Chiseled-Jawline#/Image:Get-a-Chiseled-Jawline-Step-4-Version-2.jpg cannot identify image file './disney_img/5944.jpg'\n"
     ]
    },
    {
     "name": "stderr",
     "output_type": "stream",
     "text": [
      " 14%|█▍        | 5899/42802 [45:22<4:37:28,  2.22it/s]"
     ]
    },
    {
     "name": "stdout",
     "output_type": "stream",
     "text": [
      "https://m.wikihow.com/Remove-Blackheads#/Image:Remove-Blackheads-Step-10-Version-3.jpg cannot identify image file './disney_img/6040.jpg'\n"
     ]
    },
    {
     "name": "stderr",
     "output_type": "stream",
     "text": [
      " 15%|█▌        | 6479/42802 [49:54<4:26:42,  2.27it/s]"
     ]
    },
    {
     "name": "stdout",
     "output_type": "stream",
     "text": [
      "http://Not-Step-12-Version-2.jpg/v4-460px-Convince-Yourself-Not-to-Commit-Suicide-Step-12-Version-2.jpg HTTPConnectionPool(host='not-step-12-version-2.jpg', port=80): Max retries exceeded with url: /v4-460px-Convince-Yourself-Not-to-Commit-Suicide-Step-12-Version-2.jpg (Caused by NewConnectionError('<urllib3.connection.HTTPConnection object at 0x7f7660e18390>: Failed to establish a new connection: [Errno -2] Name or service not known',))\n"
     ]
    },
    {
     "name": "stderr",
     "output_type": "stream",
     "text": [
      " 16%|█▌        | 6658/42802 [51:34<4:33:30,  2.20it/s] "
     ]
    },
    {
     "name": "stdout",
     "output_type": "stream",
     "text": [
      "https://m.wikihow.com/Annoy-People-in-Elevators#/Image:Annoy-People-in-Elevators-Step-2-Version-2.jpg cannot identify image file './disney_img/6814.jpg'\n"
     ]
    },
    {
     "name": "stderr",
     "output_type": "stream",
     "text": [
      " 16%|█▌        | 6786/42802 [52:34<4:20:59,  2.30it/s]"
     ]
    },
    {
     "name": "stdout",
     "output_type": "stream",
     "text": [
      "https://www.wikihow.com/Can-Beans#/Image:Can-Beans-Step-26.jpg cannot identify image file './disney_img/6944.jpg'\n"
     ]
    },
    {
     "name": "stderr",
     "output_type": "stream",
     "text": [
      " 16%|█▋        | 7012/42802 [54:18<3:49:20,  2.60it/s]"
     ]
    },
    {
     "name": "stdout",
     "output_type": "stream",
     "text": [
      "https://m.wikihow.com/Improve-Your-Reflexes#/Image:Improve-in-Volleyball-Step-2.jpg cannot identify image file './disney_img/7174.jpg'\n"
     ]
    },
    {
     "name": "stderr",
     "output_type": "stream",
     "text": [
      " 17%|█▋        | 7170/42802 [55:30<4:36:13,  2.15it/s]"
     ]
    },
    {
     "name": "stdout",
     "output_type": "stream",
     "text": [
      "https://m.wikihow.com/Reuse-Old-Toothbrushes#/Image:Reuse-Old-Toothbrushes-Step-18-Version-2.jpg cannot identify image file './disney_img/7336.jpg'\n"
     ]
    },
    {
     "name": "stderr",
     "output_type": "stream",
     "text": [
      " 17%|█▋        | 7383/42802 [57:10<5:23:05,  1.83it/s]"
     ]
    },
    {
     "name": "stdout",
     "output_type": "stream",
     "text": [
      "https://www.wikihow.com/Have-Computer-Fun#/Image:Have-Computer-Fun-Step-4-Version-4.jpg cannot identify image file './disney_img/7555.jpg'\n"
     ]
    },
    {
     "name": "stderr",
     "output_type": "stream",
     "text": [
      " 18%|█▊        | 7597/42802 [58:54<4:02:05,  2.42it/s]"
     ]
    },
    {
     "name": "stdout",
     "output_type": "stream",
     "text": [
      "https://www.wikihow.com/Make-a-Citizen%27s-Arrest-in-California#/Image:Make-a-Citizen%27s-Arrest-in-California-Step-4.jpg cannot identify image file './disney_img/7774.jpg'\n"
     ]
    },
    {
     "name": "stderr",
     "output_type": "stream",
     "text": [
      " 18%|█▊        | 7651/42802 [59:19<3:53:26,  2.51it/s]"
     ]
    },
    {
     "name": "stdout",
     "output_type": "stream",
     "text": [
      "https://m.wikihow.com/Get-Over-an-Anime-Addiction#/Image:Get-Over-an-Anime-Addiction-Step-14-Version-4.jpg cannot identify image file './disney_img/7830.jpg'\n"
     ]
    },
    {
     "name": "stderr",
     "output_type": "stream",
     "text": [
      " 18%|█▊        | 7659/42802 [59:24<4:30:29,  2.17it/s]"
     ]
    },
    {
     "name": "stdout",
     "output_type": "stream",
     "text": [
      "https://www.wikihow.com/Care-for-a-Miniature-Horse#/Image:Care-for-a-Miniature-Horse-Step-9-Version-3.jpg cannot identify image file './disney_img/7839.jpg'\n"
     ]
    },
    {
     "name": "stderr",
     "output_type": "stream",
     "text": [
      " 18%|█▊        | 7660/42802 [59:25<7:07:22,  1.37it/s]"
     ]
    },
    {
     "name": "stdout",
     "output_type": "stream",
     "text": [
      "https://www.wikihow.com/Care-for-a-Miniature-Horse#/Image:Care-for-a-Miniature-Horse-Step-9-Version-3.jpg cannot identify image file './disney_img/7840.jpg'\n"
     ]
    },
    {
     "name": "stderr",
     "output_type": "stream",
     "text": [
      " 18%|█▊        | 7728/42802 [59:57<4:32:34,  2.14it/s]"
     ]
    },
    {
     "name": "stdout",
     "output_type": "stream",
     "text": [
      "https://m.wikihow.com/Determine-if-You%27re-Regular-or-Goofy-Foot#/Image:Determine-if-You%27re-Regular-or-Goofy-Foot-Step-3-Version-2.jpg cannot identify image file './disney_img/7909.jpg'\n"
     ]
    },
    {
     "name": "stderr",
     "output_type": "stream",
     "text": [
      " 19%|█▊        | 7939/42802 [1:01:40<3:34:34,  2.71it/s]"
     ]
    },
    {
     "name": "stdout",
     "output_type": "stream",
     "text": [
      "https://m.wikihow.com/Date-After-a-Divorce-at-40#/Image:Date-After-a-Divorce-at-40-Step-9.jpg cannot identify image file './disney_img/8125.jpg'\n"
     ]
    },
    {
     "name": "stderr",
     "output_type": "stream",
     "text": [
      " 19%|█▉        | 8197/42802 [1:03:45<4:56:21,  1.95it/s]"
     ]
    },
    {
     "name": "stdout",
     "output_type": "stream",
     "text": [
      "https://m.wikihow.com/Identify-Different-Types-of-Headaches#/Image:Recognize-the-Strep-Throat-Symptoms-Step-6-Version-2.jpg cannot identify image file './disney_img/8387.jpg'\n"
     ]
    },
    {
     "name": "stderr",
     "output_type": "stream",
     "text": [
      " 19%|█▉        | 8282/42802 [1:04:23<3:50:04,  2.50it/s]"
     ]
    },
    {
     "name": "stdout",
     "output_type": "stream",
     "text": [
      "https://www.wikihow.com/Reduce-The-Effects-of-Macular-Degeneration#/Image:Reduce-The-Effects-of-Macular-Degeneration-Step-15.jpg cannot identify image file './disney_img/8473.jpg'\n"
     ]
    },
    {
     "name": "stderr",
     "output_type": "stream",
     "text": [
      " 20%|██        | 8592/42802 [1:06:47<4:31:23,  2.10it/s]"
     ]
    },
    {
     "name": "stdout",
     "output_type": "stream",
     "text": [
      "https://www.wikihow.com/Join-Up-With-a-Horse#/Image:Join-Up-With-a-Horse-Step-4-Version-3.jpg cannot identify image file './disney_img/8786.jpg'\n"
     ]
    },
    {
     "name": "stderr",
     "output_type": "stream",
     "text": [
      " 20%|██        | 8599/42802 [1:06:51<4:37:49,  2.05it/s]"
     ]
    },
    {
     "name": "stdout",
     "output_type": "stream",
     "text": [
      "https://www.wikihow.com/Pull-Out-a-Tooth-Without-Pain#/Image:Pull-Out-a-Tooth-Without-Pain-Step-9.jpg cannot identify image file './disney_img/8793.jpg'\n"
     ]
    },
    {
     "name": "stderr",
     "output_type": "stream",
     "text": [
      " 20%|██        | 8668/42802 [1:07:25<4:11:39,  2.26it/s]"
     ]
    },
    {
     "name": "stdout",
     "output_type": "stream",
     "text": [
      "https://m.wikihow.com/React-if-Your-Friend%27s-Baby-Has-Down-Syndrome#/Image:React-if-Your-Friend%27s-Baby-Has-Down-Syndrome-Step-2.jpg cannot identify image file './disney_img/8862.jpg'\n"
     ]
    },
    {
     "name": "stderr",
     "output_type": "stream",
     "text": [
      " 21%|██        | 8787/42802 [1:08:21<5:20:07,  1.77it/s]"
     ]
    },
    {
     "name": "stdout",
     "output_type": "stream",
     "text": [
      "https://www.wikihow.com/Use-a-Gun-(Women)#/Image:Desensitize-Yourself-from-Pain-Step-5.jpg cannot identify image file './disney_img/8981.jpg'\n"
     ]
    },
    {
     "name": "stderr",
     "output_type": "stream",
     "text": [
      " 21%|██▏       | 9144/42802 [1:11:05<3:56:39,  2.37it/s]"
     ]
    }
   ],
   "source": [
    "images_saved = []\n",
    "folder = './disney_img'\n",
    "for image in tqdm(data.to_dict(orient='records')):\n",
    "    name = image['im_id']\n",
    "    try:\n",
    "        if save_img(image['link'],name, folder=folder):\n",
    "            if os.path.isfile(os.path.join(folder, name)):\n",
    "                images_saved.append(os.path.join(folder, name))\n",
    "                continue\n",
    "            im = Image.open(os.path.join(folder, name))\n",
    "            w, h = im.size\n",
    "            im = im.crop((0,0,w,h-50))\n",
    "            rgb_im = im.convert('RGB')\n",
    "            rgb_im.save(os.path.join(folder, name.replace('png','jpg')))\n",
    "            if 'png' in name:\n",
    "                os.remove(os.path.join(folder, name))\n",
    "            images_saved.append(os.path.join(folder, name))\n",
    "    except Exception as e:\n",
    "        print(image['link'], e)\n",
    "        time.sleep(1)"
   ]
  },
  {
   "cell_type": "code",
   "execution_count": null,
   "metadata": {},
   "outputs": [],
   "source": [
    "print(2)"
   ]
  }
 ],
 "metadata": {
  "kernelspec": {
   "display_name": "Python 3",
   "language": "python",
   "name": "python3"
  },
  "language_info": {
   "codemirror_mode": {
    "name": "ipython",
    "version": 3
   },
   "file_extension": ".py",
   "mimetype": "text/x-python",
   "name": "python",
   "nbconvert_exporter": "python",
   "pygments_lexer": "ipython3",
   "version": "3.6.9"
  }
 },
 "nbformat": 4,
 "nbformat_minor": 4
}
